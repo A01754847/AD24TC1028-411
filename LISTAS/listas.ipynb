{
 "cells": [
  {
   "cell_type": "code",
   "execution_count": 8,
   "metadata": {},
   "outputs": [
    {
     "name": "stdout",
     "output_type": "stream",
     "text": [
      "10\n",
      "20\n",
      "30\n",
      "40\n",
      "[10, 'X', 30, [True, False]]\n"
     ]
    }
   ],
   "source": [
    "lista=[10,20,30,40]\n",
    "for i in range(len(lista)):\n",
    "    print(lista[i])\n",
    "\n",
    "lista[1]= \"X\"\n",
    "lista[ -1]=[True,False]\n",
    "print(lista)"
   ]
  },
  {
   "cell_type": "code",
   "execution_count": 19,
   "metadata": {},
   "outputs": [
    {
     "name": "stdout",
     "output_type": "stream",
     "text": [
      "6\n",
      "([0, 1, 2], [3, 4, 5], [6, 7, 8])\n",
      "[0, 1, 2]\n",
      "0\n",
      "1\n",
      "2\n",
      "[3, 4, 5]\n",
      "3\n",
      "4\n",
      "5\n",
      "[6, 7, 8]\n",
      "6\n",
      "7\n",
      "8\n"
     ]
    }
   ],
   "source": [
    "matriz=[0,1,2],[3,4,5]\n",
    "print(matriz[2][0])\n",
    "print(matriz)\n",
    "for i in range(len(matriz)):\n",
    "    print(matriz[i])\n",
    "    for j in range(len(matriz[i])):\n",
    "        print(matriz[i][j])"
   ]
  },
  {
   "cell_type": "code",
   "execution_count": 22,
   "metadata": {},
   "outputs": [
    {
     "name": "stdout",
     "output_type": "stream",
     "text": [
      "[10, 20, 0, 1, 2, 3, 4, 5, 6, 7, 8, 9, 10]\n"
     ]
    }
   ],
   "source": [
    "listaa=[10,20]\n",
    "for i in range(0,11):\n",
    "    listaa.append(i)\n",
    "print(listaa)"
   ]
  },
  {
   "cell_type": "code",
   "execution_count": 24,
   "metadata": {},
   "outputs": [
    {
     "name": "stdout",
     "output_type": "stream",
     "text": [
      "['A', 'B', 'C', 'D', 'E', 'F', 'G', 'H', 'I', 'J']\n"
     ]
    }
   ],
   "source": [
    "x= []\n",
    "for i in range(65,75):\n",
    "    x.append(chr(i))\n",
    "print(x)"
   ]
  },
  {
   "cell_type": "code",
   "execution_count": 26,
   "metadata": {},
   "outputs": [
    {
     "name": "stdout",
     "output_type": "stream",
     "text": [
      "[['A', 'B', 'C', 'D', 'E'], ['F', 'G', 'H', 'I', 'J'], ['K', 'L', 'M', 'N', 'O'], ['P', 'Q', 'R', 'S', 'T']]\n"
     ]
    }
   ],
   "source": [
    "x=[]\n",
    "let=65\n",
    "for i in range(4):\n",
    "    lista = []\n",
    "    for j in range (5):\n",
    "        lista.append(chr(let))\n",
    "        let += 1\n",
    "    x.append(lista)\n",
    "print(x)"
   ]
  }
 ],
 "metadata": {
  "kernelspec": {
   "display_name": "Python 3",
   "language": "python",
   "name": "python3"
  },
  "language_info": {
   "codemirror_mode": {
    "name": "ipython",
    "version": 3
   },
   "file_extension": ".py",
   "mimetype": "text/x-python",
   "name": "python",
   "nbconvert_exporter": "python",
   "pygments_lexer": "ipython3",
   "version": "3.12.1"
  }
 },
 "nbformat": 4,
 "nbformat_minor": 2
}
